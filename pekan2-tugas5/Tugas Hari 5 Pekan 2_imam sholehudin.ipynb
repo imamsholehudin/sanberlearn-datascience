{
 "cells": [
  {
   "cell_type": "markdown",
   "metadata": {
    "colab_type": "text",
    "id": "Kn2L7gz1Cjak"
   },
   "source": [
    "<h2>Soal 1: Penggabungan Data</h2>\n",
    "\n",
    "- Sebutkan perbedaan antara full outer join, inner join, dan left join"
   ]
  },
  {
   "cell_type": "markdown",
   "metadata": {
    "colab_type": "text",
    "id": "lz5KBMyXCjau"
   },
   "source": [
    "Jawab:\n",
    "outer join adalah seubuah pergabungan data baris dari setiap data yang digabungkan\n",
    "inner join adalah sebuah pergabungan data baris yang beririsan\n",
    "left join adalah sebuah penggabungan yang menghasilkan seluruh data dari data yang kiri ditambah yang kanan"
   ]
  },
  {
   "cell_type": "markdown",
   "metadata": {
    "colab_type": "text",
    "id": "H8k-jVewCjax"
   },
   "source": [
    "<h2>Soal 2: Penggabungan Data</h2>\n",
    "\n",
    "Pada quiz no 2 ini gunakan data [names1881.csv](https://drive.google.com/uc?export=download&id=1Pwu3cv93hI79jmi52kJ05xhophknDKat) dan [names1981.csv](https://drive.google.com/uc?export=download&id=1pvsGaybr423hJXcN35e5nS3sg4ha4jo3), data ini berisi nama bayi yang lahir pada tahun 1881 atau 1981 di Amerika.\n",
    "\n",
    "- Baca data tersebut dengan memberikan nama column 'Name', 'Gender', 'Count'.\n",
    "- Tunjukan jumlah dimensi dari data 'names1881.csv' dan 'names1981.csv'\n",
    "- Gabungkan kedua data tersebut berdasarkan sumbu baris\n",
    "- Tunjukan jumlah dimensi dari data setelah di gabungkan."
   ]
  },
  {
   "cell_type": "code",
   "execution_count": 13,
   "metadata": {
    "colab": {},
    "colab_type": "code",
    "id": "nThN7zO2Cjaz"
   },
   "outputs": [
    {
     "name": "stdout",
     "output_type": "stream",
     "text": [
      "Jumlah Dimensi data 'names1881.csv' :\n",
      "(1935, 3)\n",
      "            Name Gender  Count\n",
      "0           Mary      F   6919\n",
      "1           Anna      F   2698\n",
      "2           Emma      F   2034\n",
      "3      Elizabeth      F   1852\n",
      "4       Margaret      F   1658\n",
      "5         Minnie      F   1653\n",
      "6            Ida      F   1439\n",
      "7          Annie      F   1326\n",
      "8         Bertha      F   1324\n",
      "9          Alice      F   1308\n",
      "10         Clara      F   1242\n",
      "11         Sarah      F   1226\n",
      "12          Ella      F   1148\n",
      "13        Nellie      F   1096\n",
      "14         Grace      F   1089\n",
      "15      Florence      F   1046\n",
      "16        Martha      F   1044\n",
      "17          Cora      F    969\n",
      "18         Laura      F    962\n",
      "19        Carrie      F    958\n",
      "20         Maude      F    923\n",
      "21        Bessie      F    903\n",
      "22         Mabel      F    893\n",
      "23      Gertrude      F    791\n",
      "24         Ethel      F    788\n",
      "25        Jennie      F    784\n",
      "26         Edith      F    778\n",
      "27        Hattie      F    775\n",
      "28        Mattie      F    754\n",
      "29         Julia      F    737\n",
      "...          ...    ...    ...\n",
      "1905      Mercer      M      5\n",
      "1906       Monte      M      5\n",
      "1907  Montgomery      M      5\n",
      "1908       Nolan      M      5\n",
      "1909        Okey      M      5\n",
      "1910       Orley      M      5\n",
      "1911        Page      M      5\n",
      "1912       Philo      M      5\n",
      "1913      Primus      M      5\n",
      "1914     Prosper      M      5\n",
      "1915       Pryor      M      5\n",
      "1916        Rene      M      5\n",
      "1917       Robin      M      5\n",
      "1918        Roll      M      5\n",
      "1919     Rolland      M      5\n",
      "1920      Seward      M      5\n",
      "1921     Shannon      M      5\n",
      "1922     Talmage      M      5\n",
      "1923       Urban      M      5\n",
      "1924      Vaughn      M      5\n",
      "1925      Verner      M      5\n",
      "1926     Waverly      M      5\n",
      "1927     Webster      M      5\n",
      "1928      Weldon      M      5\n",
      "1929       Wells      M      5\n",
      "1930      Wiliam      M      5\n",
      "1931      Wilton      M      5\n",
      "1932        Wing      M      5\n",
      "1933        Wood      M      5\n",
      "1934      Wright      M      5\n",
      "\n",
      "[1935 rows x 3 columns]\n",
      "Jumlah dimensi baris data 'names1981.csv' :\n",
      "(19455, 3)\n",
      "             Name Gender  Count\n",
      "0        Jennifer      F  57032\n",
      "1         Jessica      F  42519\n",
      "2          Amanda      F  34370\n",
      "3           Sarah      F  28162\n",
      "4         Melissa      F  28003\n",
      "5             Amy      F  20337\n",
      "6          Nicole      F  20310\n",
      "7       Stephanie      F  20202\n",
      "8       Elizabeth      F  20168\n",
      "9         Heather      F  17941\n",
      "10       Michelle      F  17764\n",
      "11        Rebecca      F  16730\n",
      "12       Kimberly      F  16690\n",
      "13        Tiffany      F  16409\n",
      "14         Angela      F  15912\n",
      "15        Crystal      F  15881\n",
      "16      Christina      F  14391\n",
      "17           Lisa      F  14291\n",
      "18           Erin      F  13848\n",
      "19          Amber      F  13808\n",
      "20          Laura      F  13288\n",
      "21         Rachel      F  12583\n",
      "22          Kelly      F  11875\n",
      "23         Andrea      F  11678\n",
      "24          April      F  11402\n",
      "25           Sara      F  11350\n",
      "26           Mary      F  11030\n",
      "27          Jamie      F  10978\n",
      "28          Emily      F  10800\n",
      "29       Danielle      F  10028\n",
      "...           ...    ...    ...\n",
      "19425  Willington      M      5\n",
      "19426    Wladimir      M      5\n",
      "19427         Won      M      5\n",
      "19428         Woo      M      5\n",
      "19429     Woodley      M      5\n",
      "19430        Xeng      M      5\n",
      "19431      Yannis      M      5\n",
      "19432         Yaw      M      5\n",
      "19433         Yia      M      5\n",
      "19434     Yiannis      M      5\n",
      "19435       Yohei      M      5\n",
      "19436        Yoni      M      5\n",
      "19437          Yu      M      5\n",
      "19438         Yul      M      5\n",
      "19439      Yusuke      M      5\n",
      "19440        Yvan      M      5\n",
      "19441      Yvette      M      5\n",
      "19442    Zaccheus      M      5\n",
      "19443     Zachari      M      5\n",
      "19444    Zacharie      M      5\n",
      "19445     Zackory      M      5\n",
      "19446       Zaire      M      5\n",
      "19447    Zakariah      M      5\n",
      "19448        Zayd      M      5\n",
      "19449         Zed      M      5\n",
      "19450    Zeferino      M      5\n",
      "19451     Zerrick      M      5\n",
      "19452    Zimbabwe      M      5\n",
      "19453      Zoltan      M      5\n",
      "19454      Zuriel      M      5\n",
      "\n",
      "[19455 rows x 3 columns]\n",
      "Jumlah Baris data 'names1981.csv' :\n",
      "             Name Gender  Count\n",
      "0            Mary      F   6919\n",
      "1            Anna      F   2698\n",
      "2            Emma      F   2034\n",
      "3       Elizabeth      F   1852\n",
      "4        Margaret      F   1658\n",
      "5          Minnie      F   1653\n",
      "6             Ida      F   1439\n",
      "7           Annie      F   1326\n",
      "8          Bertha      F   1324\n",
      "9           Alice      F   1308\n",
      "10          Clara      F   1242\n",
      "11          Sarah      F   1226\n",
      "12           Ella      F   1148\n",
      "13         Nellie      F   1096\n",
      "14          Grace      F   1089\n",
      "15       Florence      F   1046\n",
      "16         Martha      F   1044\n",
      "17           Cora      F    969\n",
      "18          Laura      F    962\n",
      "19         Carrie      F    958\n",
      "20          Maude      F    923\n",
      "21         Bessie      F    903\n",
      "22          Mabel      F    893\n",
      "23       Gertrude      F    791\n",
      "24          Ethel      F    788\n",
      "25         Jennie      F    784\n",
      "26          Edith      F    778\n",
      "27         Hattie      F    775\n",
      "28         Mattie      F    754\n",
      "29          Julia      F    737\n",
      "...           ...    ...    ...\n",
      "19425  Willington      M      5\n",
      "19426    Wladimir      M      5\n",
      "19427         Won      M      5\n",
      "19428         Woo      M      5\n",
      "19429     Woodley      M      5\n",
      "19430        Xeng      M      5\n",
      "19431      Yannis      M      5\n",
      "19432         Yaw      M      5\n",
      "19433         Yia      M      5\n",
      "19434     Yiannis      M      5\n",
      "19435       Yohei      M      5\n",
      "19436        Yoni      M      5\n",
      "19437          Yu      M      5\n",
      "19438         Yul      M      5\n",
      "19439      Yusuke      M      5\n",
      "19440        Yvan      M      5\n",
      "19441      Yvette      M      5\n",
      "19442    Zaccheus      M      5\n",
      "19443     Zachari      M      5\n",
      "19444    Zacharie      M      5\n",
      "19445     Zackory      M      5\n",
      "19446       Zaire      M      5\n",
      "19447    Zakariah      M      5\n",
      "19448        Zayd      M      5\n",
      "19449         Zed      M      5\n",
      "19450    Zeferino      M      5\n",
      "19451     Zerrick      M      5\n",
      "19452    Zimbabwe      M      5\n",
      "19453      Zoltan      M      5\n",
      "19454      Zuriel      M      5\n",
      "\n",
      "[21390 rows x 3 columns]\n",
      "Jumlah dimensi data setelah penggabungan : \n",
      "(21390, 3)\n"
     ]
    }
   ],
   "source": [
    "import pandas as pd\n",
    "# read data\n",
    "df1 = pd.read_csv('names1881.csv',names=['Name','Gender','Count'])\n",
    "df2 = pd.read_csv('names1981.csv',names=['Name','Gender','Count'])\n",
    "\n",
    "# periksa dimensi dari kedua data\n",
    "print(\"Jumlah Dimensi data 'names1881.csv' :\")\n",
    "print(df1.shape)\n",
    "print(df1)\n",
    "print(\"Jumlah dimensi baris data 'names1981.csv' :\")\n",
    "print(df2.shape)\n",
    "print(df2)\n",
    "\n",
    "# gabungkan data\n",
    "print(\"Jumlah Baris data 'names1981.csv' :\")\n",
    "joined = [df1,df2]\n",
    "df = pd.concat(joined)\n",
    "print(df)\n",
    "\n",
    "# periksa dimensi data hasil gabungan\n",
    "print(\"Jumlah dimensi data setelah penggabungan : \")\n",
    "print(df.shape)"
   ]
  },
  {
   "cell_type": "markdown",
   "metadata": {
    "colab_type": "text",
    "id": "vxp88Xe5CjbF"
   },
   "source": [
    "Expected Result: \n",
    "\n",
    "Jumlah Dimensi data 'names1881.csv': \n",
    "\n",
    "(1935, 3)\n",
    "\n",
    "Jumlah Baris data 'names1981.csv':\n",
    "\n",
    "(19455, 3)\n",
    "\n",
    "![alt text](https://drive.google.com/uc?id=1jMCAdLrcJubjufydZBnzdQkYqDS3Klat)\n",
    "\n",
    "Jumlah dimensi data setelah penggabungan : \n",
    "\n",
    "(21390, 3)"
   ]
  },
  {
   "cell_type": "markdown",
   "metadata": {
    "colab_type": "text",
    "id": "yALBDvlQCjbJ"
   },
   "source": [
    "<h2>Soal 3: Penggabungan Data</h2>\n",
    "\n",
    "Lakukan jenis penggabungan data full outer join, inner join, left outer join dan right outer join pada kedua data berikut: "
   ]
  },
  {
   "cell_type": "code",
   "execution_count": 14,
   "metadata": {
    "colab": {},
    "colab_type": "code",
    "id": "GQtYaV1gCjbM",
    "outputId": "4db73df8-6ee0-49cb-b151-a8ea15fd3514"
   },
   "outputs": [
    {
     "name": "stdout",
     "output_type": "stream",
     "text": [
      "  Feature1 Feature2  id\n",
      "0       a1       b1   1\n",
      "1       a2       b2   2\n",
      "2       a3       b3   3\n",
      "3       a4       b4   4\n",
      "  Feature3  id\n",
      "0       c1   3\n",
      "1       c2   4\n",
      "2       c3   5\n",
      "3       c4   6\n",
      "4       c5   7\n"
     ]
    }
   ],
   "source": [
    "import pandas as pd\n",
    "\n",
    "data1 = {\n",
    "    'id' : [1, 2, 3, 4],\n",
    "    'Feature1' : ['a1', 'a2', 'a3', 'a4'],\n",
    "    'Feature2' : ['b1', 'b2', 'b3', 'b4']\n",
    "}\n",
    "\n",
    "data2 = {\n",
    "    'id' : [3, 4, 5 ,6, 7],\n",
    "    'Feature3' : ['c1', 'c2', 'c3', 'c4', 'c5']\n",
    "}\n",
    "\n",
    "df1= pd.DataFrame(data1)\n",
    "df2= pd.DataFrame(data2)\n",
    "\n",
    "print(df1)\n",
    "print(df2)"
   ]
  },
  {
   "cell_type": "code",
   "execution_count": 22,
   "metadata": {
    "colab": {},
    "colab_type": "code",
    "id": "sMuRgJYhCjbg"
   },
   "outputs": [
    {
     "name": "stdout",
     "output_type": "stream",
     "text": [
      "  Feature1 Feature2  id Feature3\n",
      "0       a1       b1   1      NaN\n",
      "1       a2       b2   2      NaN\n",
      "2       a3       b3   3       c1\n",
      "3       a4       b4   4       c2\n",
      "4      NaN      NaN   5       c3\n",
      "5      NaN      NaN   6       c4\n",
      "6      NaN      NaN   7       c5\n",
      "  Feature1 Feature2  id Feature3\n",
      "0       a3       b3   3       c1\n",
      "1       a4       b4   4       c2\n",
      "  Feature1 Feature2  id Feature3\n",
      "0       a1       b1   1      NaN\n",
      "1       a2       b2   2      NaN\n",
      "2       a3       b3   3       c1\n",
      "3       a4       b4   4       c2\n",
      "  Feature1 Feature2  id Feature3\n",
      "0       a3       b3   3       c1\n",
      "1       a4       b4   4       c2\n",
      "2      NaN      NaN   5       c3\n",
      "3      NaN      NaN   6       c4\n",
      "4      NaN      NaN   7       c5\n"
     ]
    }
   ],
   "source": [
    "# join data\n",
    "df_outer_join = pd.merge(df1,df2,on='id',how='outer')\n",
    "print(df_outer_join)\n",
    "\n",
    "df_inner_join = pd.merge(df1,df2,on='id',how='inner')\n",
    "print(df_inner_join)\n",
    "\n",
    "df_left_join = pd.merge(df1,df2,on='id',how='left')\n",
    "print(df_left_join)\n",
    "\n",
    "df_right_join = pd.merge(df1,df2,on='id',how='right')\n",
    "print(df_right_join)"
   ]
  },
  {
   "cell_type": "markdown",
   "metadata": {
    "colab_type": "text",
    "id": "p2YbxGt8Cjb1"
   },
   "source": [
    "Expected Result:\n",
    "\n",
    "![alt text](https://drive.google.com/uc?id=1kUpkzWh3Y-X_1H1QXHiccdHf4YjqXsDu)\n",
    "\n",
    "![alt text](https://drive.google.com/uc?id=1ojoAC2oX9P3ZHl0lS3RXipd7gShLOmmC)\n",
    "\n",
    "![alt text](https://drive.google.com/uc?id=12jDnQzIosn6dizVwl2nPMX1IhhyEZ4FA)\n",
    "\n",
    "![alt text](https://drive.google.com/uc?id=11znqscNsVZ-cHY-PPgoHEBDWyc6XRtAL)"
   ]
  },
  {
   "cell_type": "markdown",
   "metadata": {
    "colab_type": "text",
    "id": "2hfhFcsACjb4"
   },
   "source": [
    "<h2>Soal 4: Penggabungan Data berbeda label column Key</h2>\n",
    "\n",
    "Lakukan jenis penggabungan inner join untuk 2 data yang memiliki nama column key yang berbeda ini:"
   ]
  },
  {
   "cell_type": "code",
   "execution_count": 24,
   "metadata": {
    "colab": {},
    "colab_type": "code",
    "id": "9eE1RWfKCjb9",
    "outputId": "345c3d29-a344-410b-b4eb-769bb9fdb64d"
   },
   "outputs": [
    {
     "name": "stdout",
     "output_type": "stream",
     "text": [
      "  Feature1 Feature2  key_data1\n",
      "0       a1       b1          1\n",
      "1       a2       b2          2\n",
      "2       a3       b3          3\n",
      "3       a4       b4          4\n",
      "  Feature3  key_data2\n",
      "0       c1          3\n",
      "1       c2          4\n",
      "2       c3          5\n",
      "3       c4          6\n",
      "4       c5          7\n"
     ]
    }
   ],
   "source": [
    "data1 = {\n",
    "    'key_data1' : [1, 2, 3, 4],\n",
    "    'Feature1' : ['a1', 'a2', 'a3', 'a4'],\n",
    "    'Feature2' : ['b1', 'b2', 'b3', 'b4']\n",
    "}\n",
    "\n",
    "data2 = {\n",
    "    'key_data2' : [3, 4, 5 ,6, 7],\n",
    "    'Feature3' : ['c1', 'c2', 'c3', 'c4', 'c5']\n",
    "}\n",
    "\n",
    "df1= pd.DataFrame(data1)\n",
    "df2= pd.DataFrame(data2)\n",
    "\n",
    "print(df1)\n",
    "print(df2)"
   ]
  },
  {
   "cell_type": "code",
   "execution_count": 25,
   "metadata": {
    "colab": {},
    "colab_type": "code",
    "id": "OiD9K234CjcV"
   },
   "outputs": [
    {
     "data": {
      "text/html": [
       "<div>\n",
       "<style scoped>\n",
       "    .dataframe tbody tr th:only-of-type {\n",
       "        vertical-align: middle;\n",
       "    }\n",
       "\n",
       "    .dataframe tbody tr th {\n",
       "        vertical-align: top;\n",
       "    }\n",
       "\n",
       "    .dataframe thead th {\n",
       "        text-align: right;\n",
       "    }\n",
       "</style>\n",
       "<table border=\"1\" class=\"dataframe\">\n",
       "  <thead>\n",
       "    <tr style=\"text-align: right;\">\n",
       "      <th></th>\n",
       "      <th>Feature1</th>\n",
       "      <th>Feature2</th>\n",
       "      <th>key_data1</th>\n",
       "      <th>Feature3</th>\n",
       "      <th>key_data2</th>\n",
       "    </tr>\n",
       "  </thead>\n",
       "  <tbody>\n",
       "    <tr>\n",
       "      <th>0</th>\n",
       "      <td>a3</td>\n",
       "      <td>b3</td>\n",
       "      <td>3</td>\n",
       "      <td>c1</td>\n",
       "      <td>3</td>\n",
       "    </tr>\n",
       "    <tr>\n",
       "      <th>1</th>\n",
       "      <td>a4</td>\n",
       "      <td>b4</td>\n",
       "      <td>4</td>\n",
       "      <td>c2</td>\n",
       "      <td>4</td>\n",
       "    </tr>\n",
       "  </tbody>\n",
       "</table>\n",
       "</div>"
      ],
      "text/plain": [
       "  Feature1 Feature2  key_data1 Feature3  key_data2\n",
       "0       a3       b3          3       c1          3\n",
       "1       a4       b4          4       c2          4"
      ]
     },
     "execution_count": 25,
     "metadata": {},
     "output_type": "execute_result"
    }
   ],
   "source": [
    "# Gabungkan kedua data tersebut\n",
    "df_gabung = pd.merge(df1,df2,left_on='key_data1',right_on='key_data2',how='inner')\n",
    "\n",
    "df_gabung"
   ]
  },
  {
   "cell_type": "markdown",
   "metadata": {
    "colab_type": "text",
    "id": "KP38kgIBCjco"
   },
   "source": [
    "Expected Result:\n",
    "\n",
    "![alt text](https://drive.google.com/uc?id=1uBiVOPnqns4al88FDc0ENIeTzIxP4wxH)"
   ]
  }
 ],
 "metadata": {
  "colab": {
   "collapsed_sections": [],
   "name": "Tugas Hari 5 Pekan 2.ipynb",
   "provenance": []
  },
  "kernelspec": {
   "display_name": "Python 2",
   "language": "python",
   "name": "python2"
  },
  "language_info": {
   "codemirror_mode": {
    "name": "ipython",
    "version": 2
   },
   "file_extension": ".py",
   "mimetype": "text/x-python",
   "name": "python",
   "nbconvert_exporter": "python",
   "pygments_lexer": "ipython2",
   "version": "2.7.16"
  }
 },
 "nbformat": 4,
 "nbformat_minor": 1
}
