{
 "cells": [
  {
   "cell_type": "code",
   "execution_count": 44,
   "metadata": {
    "colab": {},
    "colab_type": "code",
    "id": "GyakVoXhBGrv",
    "outputId": "39b8ca38-73c2-4f96-a16b-9898575919b9"
   },
   "outputs": [
    {
     "data": {
      "text/html": [
       "<div>\n",
       "<style scoped>\n",
       "    .dataframe tbody tr th:only-of-type {\n",
       "        vertical-align: middle;\n",
       "    }\n",
       "\n",
       "    .dataframe tbody tr th {\n",
       "        vertical-align: top;\n",
       "    }\n",
       "\n",
       "    .dataframe thead th {\n",
       "        text-align: right;\n",
       "    }\n",
       "</style>\n",
       "<table border=\"1\" class=\"dataframe\">\n",
       "  <thead>\n",
       "    <tr style=\"text-align: right;\">\n",
       "      <th></th>\n",
       "      <th>jenis-kelamin</th>\n",
       "      <th>kelas</th>\n",
       "      <th>nilai</th>\n",
       "      <th>pelajaran</th>\n",
       "      <th>siswa_id</th>\n",
       "    </tr>\n",
       "  </thead>\n",
       "  <tbody>\n",
       "    <tr>\n",
       "      <th>0</th>\n",
       "      <td>perempuan</td>\n",
       "      <td>12C</td>\n",
       "      <td>4</td>\n",
       "      <td>Ekonomi</td>\n",
       "      <td>1</td>\n",
       "    </tr>\n",
       "    <tr>\n",
       "      <th>1</th>\n",
       "      <td>laki-laki</td>\n",
       "      <td>12C</td>\n",
       "      <td>11</td>\n",
       "      <td>Biologi</td>\n",
       "      <td>2</td>\n",
       "    </tr>\n",
       "    <tr>\n",
       "      <th>2</th>\n",
       "      <td>perempuan</td>\n",
       "      <td>12D</td>\n",
       "      <td>39</td>\n",
       "      <td>Kimia</td>\n",
       "      <td>3</td>\n",
       "    </tr>\n",
       "    <tr>\n",
       "      <th>3</th>\n",
       "      <td>perempuan</td>\n",
       "      <td>12D</td>\n",
       "      <td>32</td>\n",
       "      <td>Matematika</td>\n",
       "      <td>4</td>\n",
       "    </tr>\n",
       "    <tr>\n",
       "      <th>4</th>\n",
       "      <td>perempuan</td>\n",
       "      <td>12A</td>\n",
       "      <td>22</td>\n",
       "      <td>Kimia</td>\n",
       "      <td>5</td>\n",
       "    </tr>\n",
       "  </tbody>\n",
       "</table>\n",
       "</div>"
      ],
      "text/plain": [
       "  jenis-kelamin kelas  nilai   pelajaran  siswa_id\n",
       "0     perempuan   12C      4     Ekonomi         1\n",
       "1     laki-laki   12C     11     Biologi         2\n",
       "2     perempuan   12D     39       Kimia         3\n",
       "3     perempuan   12D     32  Matematika         4\n",
       "4     perempuan   12A     22       Kimia         5"
      ]
     },
     "execution_count": 44,
     "metadata": {},
     "output_type": "execute_result"
    }
   ],
   "source": [
    "# Persiapan membuat data\n",
    "import pandas as pd\n",
    "import random\n",
    "\n",
    "pelajaran = ['Matematika', 'Fisika', 'Biologi', 'Kimia', 'Geologi', 'Ekonomi']\n",
    "kelas = ['12A', '12B', '12C', '12D']\n",
    "\n",
    "hasil_nilai = {\n",
    "    'siswa_id' : range(1, 21),\n",
    "    'pelajaran' : [random.choice(pelajaran) for i in range(20)],\n",
    "    'nilai' : [random.choice(range(0, 100)) for i in range(20)],\n",
    "    'jenis-kelamin' : [random.choice(['laki-laki', 'perempuan']) for i in range(20)],\n",
    "    'kelas' : [random.choice(kelas) for i in range(20)]\n",
    "}\n",
    "\n",
    "df = pd.DataFrame(hasil_nilai)\n",
    "df.head()"
   ]
  },
  {
   "cell_type": "markdown",
   "metadata": {
    "colab_type": "text",
    "id": "aNoScqypBGr5"
   },
   "source": [
    "<h2>Soal 1: Indexing</h2>\n",
    "\n",
    "1. Lakukan indexing terhadap dataframe untuk mengakses column nilai dan kelas saja\n",
    "2. Lakukan indexing terhadap dataframe untuk mengakses row 5 sampai 10 beserta column pelajaran dan nilai"
   ]
  },
  {
   "cell_type": "code",
   "execution_count": 45,
   "metadata": {
    "colab": {},
    "colab_type": "code",
    "id": "rKmgvnS2BGr6"
   },
   "outputs": [
    {
     "name": "stdout",
     "output_type": "stream",
     "text": [
      "    nilai kelas\n",
      "0       4   12C\n",
      "1      11   12C\n",
      "2      39   12D\n",
      "3      32   12D\n",
      "4      22   12A\n",
      "5      51   12B\n",
      "6      19   12C\n",
      "7       6   12C\n",
      "8      60   12B\n",
      "9      43   12B\n",
      "10      7   12C\n",
      "11     19   12C\n",
      "12     66   12D\n",
      "13      3   12C\n",
      "14     10   12D\n",
      "15     16   12B\n",
      "16     45   12C\n",
      "17     91   12C\n",
      "18     72   12A\n",
      "19     29   12D\n",
      "   nilai kelas\n",
      "4     22   12A\n",
      "5     51   12B\n",
      "6     19   12C\n",
      "7      6   12C\n",
      "8     60   12B\n",
      "9     43   12B\n"
     ]
    }
   ],
   "source": [
    "# nomor 1\n",
    "jawaban =df[['nilai','kelas']]\n",
    "print(jawaban)\n",
    "#nomor 2\n",
    "print(jawaban.iloc[4:10])\n"
   ]
  },
  {
   "cell_type": "markdown",
   "metadata": {
    "colab_type": "text",
    "id": "F55zUl5GBGr_"
   },
   "source": [
    "<h2>Soal 2: Filter DataFrame Dengan Boolean</h2>\n",
    "\n",
    "1. Tampilkan semua data siswa pada mata pelajaran Ekonomi dan Fisika\n",
    "2. Tampilkan semua data siswa yang mempunyai nilai lebih dari 50 di mata pelajaran Kimia \n",
    "3. Tampilkan semua data yang mempunyai nilai lebih dari 70, berjnis kelamin perempuan dan di kelas 12C"
   ]
  },
  {
   "cell_type": "code",
   "execution_count": 53,
   "metadata": {
    "colab": {},
    "colab_type": "code",
    "id": "eB5oSf_KBGsA"
   },
   "outputs": [
    {
     "name": "stdout",
     "output_type": "stream",
     "text": [
      "   jenis-kelamin kelas  nilai pelajaran  siswa_id\n",
      "0      perempuan   12C      4   Ekonomi         1\n",
      "5      laki-laki   12B     51   Ekonomi         6\n",
      "8      laki-laki   12B     60   Ekonomi         9\n",
      "11     perempuan   12C     19   Ekonomi        12\n",
      "12     laki-laki   12D     66   Ekonomi        13\n",
      "14     laki-laki   12D     10    Fisika        15\n",
      "19     perempuan   12D     29    Fisika        20\n",
      "Empty DataFrame\n",
      "Columns: [jenis-kelamin, kelas, nilai, pelajaran, siswa_id]\n",
      "Index: []\n"
     ]
    }
   ],
   "source": [
    "# nomor 1\n",
    "print(df.loc[(df['pelajaran'] == 'Ekonomi') | (df['pelajaran'] == 'Fisika')])\n",
    "#nomor 2\n",
    "print(df.loc[(df['pelajaran']=='Kimia') &(df['nilai']>50)])"
   ]
  },
  {
   "cell_type": "markdown",
   "metadata": {
    "colab_type": "text",
    "id": "6Od6R3H1BGsE"
   },
   "source": [
    "<h2>Soal 3: Data Transformation</h2>\n",
    "\n",
    "lakukan data transformasi terhadap column 'nilai' dengan fungsi transformasi, berikut rumus dari normalisasi\n",
    "\n",
    "![alt text](https://drive.google.com/uc?id=1wed-EbRSTA0JP1ceDp6lcKBqH2yJ4aa3)"
   ]
  },
  {
   "cell_type": "code",
   "execution_count": 57,
   "metadata": {
    "colab": {},
    "colab_type": "code",
    "id": "qeV_iH8nBGsF"
   },
   "outputs": [
    {
     "name": "stdout",
     "output_type": "stream",
     "text": [
      "0     0.011364\n",
      "1     0.090909\n",
      "2     0.409091\n",
      "3     0.329545\n",
      "4     0.215909\n",
      "5     0.545455\n",
      "6     0.181818\n",
      "7     0.034091\n",
      "8     0.647727\n",
      "9     0.454545\n",
      "10    0.045455\n",
      "11    0.181818\n",
      "12    0.715909\n",
      "13    0.000000\n",
      "14    0.079545\n",
      "15    0.147727\n",
      "16    0.477273\n",
      "17    1.000000\n",
      "18    0.784091\n",
      "19    0.295455\n",
      "Name: nilai, dtype: float64\n"
     ]
    }
   ],
   "source": [
    "# code here\n",
    "def normalized(x):\n",
    "    return ((x-x.min())/(x.max()-x.min()))\n",
    "\n",
    "value =normalized(df.nilai)\n",
    "print(value)\n",
    "\n"
   ]
  },
  {
   "cell_type": "code",
   "execution_count": null,
   "metadata": {},
   "outputs": [],
   "source": []
  }
 ],
 "metadata": {
  "colab": {
   "name": "Tugas Hari 2 Pekan 2.ipynb",
   "provenance": []
  },
  "kernelspec": {
   "display_name": "Python 2",
   "language": "python",
   "name": "python2"
  },
  "language_info": {
   "codemirror_mode": {
    "name": "ipython",
    "version": 2
   },
   "file_extension": ".py",
   "mimetype": "text/x-python",
   "name": "python",
   "nbconvert_exporter": "python",
   "pygments_lexer": "ipython2",
   "version": "2.7.16"
  }
 },
 "nbformat": 4,
 "nbformat_minor": 1
}
